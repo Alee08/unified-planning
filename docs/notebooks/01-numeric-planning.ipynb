{
 "cells": [
  {
   "cell_type": "markdown",
   "metadata": {
    "id": "vXUqFpLObzhb"
   },
   "source": [
    "#Encoding a numeric planning problem\n",
    "\n",
    "This python notebook shows how to use the unified planning library to model a simple numeric planning problem.\n",
    "We start by doing some preliminary installation that is needed to use a Java planner\n"
   ]
  },
  {
   "cell_type": "code",
   "execution_count": null,
   "metadata": {
    "colab": {
     "base_uri": "https://localhost:8080/"
    },
    "id": "VdTlwR0-DDCa",
    "outputId": "0bb3ef4d-8f75-4f67-c601-41cda8be325b",
    "tags": [
     "remove_from_CI"
    ]
   },
   "outputs": [
    {
     "name": "stdout",
     "output_type": "stream",
     "text": [
      "Reading package lists... Done\n",
      "Building dependency tree       \n",
      "Reading state information... Done\n",
      "The following additional packages will be installed:\n",
      "  fonts-dejavu-core fonts-dejavu-extra libatk-wrapper-java\n",
      "  libatk-wrapper-java-jni libfontenc1 libxkbfile1 libxtst6 libxxf86dga1\n",
      "  openjdk-17-jdk-headless openjdk-17-jre openjdk-17-jre-headless x11-utils\n",
      "Suggested packages:\n",
      "  openjdk-17-demo openjdk-17-source visualvm libnss-mdns fonts-ipafont-gothic\n",
      "  fonts-ipafont-mincho fonts-wqy-microhei | fonts-wqy-zenhei fonts-indic\n",
      "  mesa-utils\n",
      "The following NEW packages will be installed:\n",
      "  fonts-dejavu-core fonts-dejavu-extra libatk-wrapper-java\n",
      "  libatk-wrapper-java-jni libfontenc1 libxkbfile1 libxtst6 libxxf86dga1\n",
      "  openjdk-17-jdk openjdk-17-jdk-headless openjdk-17-jre\n",
      "  openjdk-17-jre-headless x11-utils\n",
      "0 upgraded, 13 newly installed, 0 to remove and 15 not upgraded.\n",
      "Need to get 119 MB of archives.\n",
      "After this operation, 284 MB of additional disk space will be used.\n",
      "Get:1 http://archive.ubuntu.com/ubuntu focal/main amd64 fonts-dejavu-core all 2.37-1 [1,041 kB]\n",
      "Get:2 http://archive.ubuntu.com/ubuntu focal/main amd64 fonts-dejavu-extra all 2.37-1 [1,953 kB]\n",
      "Get:3 http://archive.ubuntu.com/ubuntu focal/main amd64 libfontenc1 amd64 1:1.1.4-0ubuntu1 [14.0 kB]\n",
      "Get:4 http://archive.ubuntu.com/ubuntu focal/main amd64 libxkbfile1 amd64 1:1.1.0-1 [65.3 kB]\n",
      "Get:5 http://archive.ubuntu.com/ubuntu focal/main amd64 libxtst6 amd64 2:1.2.3-1 [12.8 kB]\n",
      "Get:6 http://archive.ubuntu.com/ubuntu focal/main amd64 libxxf86dga1 amd64 2:1.1.5-0ubuntu1 [12.0 kB]\n",
      "Get:7 http://archive.ubuntu.com/ubuntu focal/main amd64 x11-utils amd64 7.7+5 [199 kB]\n",
      "Get:8 http://archive.ubuntu.com/ubuntu focal/main amd64 libatk-wrapper-java all 0.37.1-1 [53.0 kB]\n",
      "Get:9 http://archive.ubuntu.com/ubuntu focal/main amd64 libatk-wrapper-java-jni amd64 0.37.1-1 [45.1 kB]\n",
      "Get:10 http://archive.ubuntu.com/ubuntu focal-updates/universe amd64 openjdk-17-jre-headless amd64 17.0.7+7~us1-0ubuntu1~20.04 [43.7 MB]\n",
      "Get:11 http://archive.ubuntu.com/ubuntu focal-updates/universe amd64 openjdk-17-jre amd64 17.0.7+7~us1-0ubuntu1~20.04 [183 kB]\n",
      "Get:12 http://archive.ubuntu.com/ubuntu focal-updates/universe amd64 openjdk-17-jdk-headless amd64 17.0.7+7~us1-0ubuntu1~20.04 [71.2 MB]\n",
      "Get:13 http://archive.ubuntu.com/ubuntu focal-updates/universe amd64 openjdk-17-jdk amd64 17.0.7+7~us1-0ubuntu1~20.04 [10.6 kB]\n",
      "Fetched 119 MB in 2s (48.0 MB/s)\n",
      "Selecting previously unselected package fonts-dejavu-core.\n",
      "(Reading database ... 123105 files and directories currently installed.)\n",
      "Preparing to unpack .../00-fonts-dejavu-core_2.37-1_all.deb ...\n",
      "Unpacking fonts-dejavu-core (2.37-1) ...\n",
      "Selecting previously unselected package fonts-dejavu-extra.\n",
      "Preparing to unpack .../01-fonts-dejavu-extra_2.37-1_all.deb ...\n",
      "Unpacking fonts-dejavu-extra (2.37-1) ...\n",
      "Selecting previously unselected package libfontenc1:amd64.\n",
      "Preparing to unpack .../02-libfontenc1_1%3a1.1.4-0ubuntu1_amd64.deb ...\n",
      "Unpacking libfontenc1:amd64 (1:1.1.4-0ubuntu1) ...\n",
      "Selecting previously unselected package libxkbfile1:amd64.\n",
      "Preparing to unpack .../03-libxkbfile1_1%3a1.1.0-1_amd64.deb ...\n",
      "Unpacking libxkbfile1:amd64 (1:1.1.0-1) ...\n",
      "Selecting previously unselected package libxtst6:amd64.\n",
      "Preparing to unpack .../04-libxtst6_2%3a1.2.3-1_amd64.deb ...\n",
      "Unpacking libxtst6:amd64 (2:1.2.3-1) ...\n",
      "Selecting previously unselected package libxxf86dga1:amd64.\n",
      "Preparing to unpack .../05-libxxf86dga1_2%3a1.1.5-0ubuntu1_amd64.deb ...\n",
      "Unpacking libxxf86dga1:amd64 (2:1.1.5-0ubuntu1) ...\n",
      "Selecting previously unselected package x11-utils.\n",
      "Preparing to unpack .../06-x11-utils_7.7+5_amd64.deb ...\n",
      "Unpacking x11-utils (7.7+5) ...\n",
      "Selecting previously unselected package libatk-wrapper-java.\n",
      "Preparing to unpack .../07-libatk-wrapper-java_0.37.1-1_all.deb ...\n",
      "Unpacking libatk-wrapper-java (0.37.1-1) ...\n",
      "Selecting previously unselected package libatk-wrapper-java-jni:amd64.\n",
      "Preparing to unpack .../08-libatk-wrapper-java-jni_0.37.1-1_amd64.deb ...\n",
      "Unpacking libatk-wrapper-java-jni:amd64 (0.37.1-1) ...\n",
      "Selecting previously unselected package openjdk-17-jre-headless:amd64.\n",
      "Preparing to unpack .../09-openjdk-17-jre-headless_17.0.7+7~us1-0ubuntu1~20.04_amd64.deb ...\n",
      "Unpacking openjdk-17-jre-headless:amd64 (17.0.7+7~us1-0ubuntu1~20.04) ...\n",
      "Selecting previously unselected package openjdk-17-jre:amd64.\n",
      "Preparing to unpack .../10-openjdk-17-jre_17.0.7+7~us1-0ubuntu1~20.04_amd64.deb ...\n",
      "Unpacking openjdk-17-jre:amd64 (17.0.7+7~us1-0ubuntu1~20.04) ...\n",
      "Selecting previously unselected package openjdk-17-jdk-headless:amd64.\n",
      "Preparing to unpack .../11-openjdk-17-jdk-headless_17.0.7+7~us1-0ubuntu1~20.04_amd64.deb ...\n",
      "Unpacking openjdk-17-jdk-headless:amd64 (17.0.7+7~us1-0ubuntu1~20.04) ...\n",
      "Selecting previously unselected package openjdk-17-jdk:amd64.\n",
      "Preparing to unpack .../12-openjdk-17-jdk_17.0.7+7~us1-0ubuntu1~20.04_amd64.deb ...\n",
      "Unpacking openjdk-17-jdk:amd64 (17.0.7+7~us1-0ubuntu1~20.04) ...\n",
      "Setting up libxtst6:amd64 (2:1.2.3-1) ...\n",
      "Setting up libxxf86dga1:amd64 (2:1.1.5-0ubuntu1) ...\n",
      "Setting up libfontenc1:amd64 (1:1.1.4-0ubuntu1) ...\n",
      "Setting up fonts-dejavu-core (2.37-1) ...\n",
      "Setting up openjdk-17-jre-headless:amd64 (17.0.7+7~us1-0ubuntu1~20.04) ...\n",
      "update-alternatives: using /usr/lib/jvm/java-17-openjdk-amd64/bin/java to provide /usr/bin/java (java) in auto mode\n",
      "update-alternatives: using /usr/lib/jvm/java-17-openjdk-amd64/bin/jpackage to provide /usr/bin/jpackage (jpackage) in auto mode\n",
      "update-alternatives: using /usr/lib/jvm/java-17-openjdk-amd64/bin/keytool to provide /usr/bin/keytool (keytool) in auto mode\n",
      "update-alternatives: using /usr/lib/jvm/java-17-openjdk-amd64/bin/rmiregistry to provide /usr/bin/rmiregistry (rmiregistry) in auto mode\n",
      "update-alternatives: using /usr/lib/jvm/java-17-openjdk-amd64/lib/jexec to provide /usr/bin/jexec (jexec) in auto mode\n",
      "Setting up fonts-dejavu-extra (2.37-1) ...\n",
      "Setting up libxkbfile1:amd64 (1:1.1.0-1) ...\n",
      "Setting up openjdk-17-jre:amd64 (17.0.7+7~us1-0ubuntu1~20.04) ...\n",
      "Setting up openjdk-17-jdk-headless:amd64 (17.0.7+7~us1-0ubuntu1~20.04) ...\n",
      "update-alternatives: using /usr/lib/jvm/java-17-openjdk-amd64/bin/jar to provide /usr/bin/jar (jar) in auto mode\n",
      "update-alternatives: using /usr/lib/jvm/java-17-openjdk-amd64/bin/jarsigner to provide /usr/bin/jarsigner (jarsigner) in auto mode\n",
      "update-alternatives: using /usr/lib/jvm/java-17-openjdk-amd64/bin/javac to provide /usr/bin/javac (javac) in auto mode\n",
      "update-alternatives: using /usr/lib/jvm/java-17-openjdk-amd64/bin/javadoc to provide /usr/bin/javadoc (javadoc) in auto mode\n",
      "update-alternatives: using /usr/lib/jvm/java-17-openjdk-amd64/bin/javap to provide /usr/bin/javap (javap) in auto mode\n",
      "update-alternatives: using /usr/lib/jvm/java-17-openjdk-amd64/bin/jcmd to provide /usr/bin/jcmd (jcmd) in auto mode\n",
      "update-alternatives: using /usr/lib/jvm/java-17-openjdk-amd64/bin/jdb to provide /usr/bin/jdb (jdb) in auto mode\n",
      "update-alternatives: using /usr/lib/jvm/java-17-openjdk-amd64/bin/jdeprscan to provide /usr/bin/jdeprscan (jdeprscan) in auto mode\n",
      "update-alternatives: using /usr/lib/jvm/java-17-openjdk-amd64/bin/jdeps to provide /usr/bin/jdeps (jdeps) in auto mode\n",
      "update-alternatives: using /usr/lib/jvm/java-17-openjdk-amd64/bin/jfr to provide /usr/bin/jfr (jfr) in auto mode\n",
      "update-alternatives: using /usr/lib/jvm/java-17-openjdk-amd64/bin/jimage to provide /usr/bin/jimage (jimage) in auto mode\n",
      "update-alternatives: using /usr/lib/jvm/java-17-openjdk-amd64/bin/jinfo to provide /usr/bin/jinfo (jinfo) in auto mode\n",
      "update-alternatives: using /usr/lib/jvm/java-17-openjdk-amd64/bin/jlink to provide /usr/bin/jlink (jlink) in auto mode\n",
      "update-alternatives: using /usr/lib/jvm/java-17-openjdk-amd64/bin/jmap to provide /usr/bin/jmap (jmap) in auto mode\n",
      "update-alternatives: using /usr/lib/jvm/java-17-openjdk-amd64/bin/jmod to provide /usr/bin/jmod (jmod) in auto mode\n",
      "update-alternatives: using /usr/lib/jvm/java-17-openjdk-amd64/bin/jps to provide /usr/bin/jps (jps) in auto mode\n",
      "update-alternatives: using /usr/lib/jvm/java-17-openjdk-amd64/bin/jrunscript to provide /usr/bin/jrunscript (jrunscript) in auto mode\n",
      "update-alternatives: using /usr/lib/jvm/java-17-openjdk-amd64/bin/jshell to provide /usr/bin/jshell (jshell) in auto mode\n",
      "update-alternatives: using /usr/lib/jvm/java-17-openjdk-amd64/bin/jstack to provide /usr/bin/jstack (jstack) in auto mode\n",
      "update-alternatives: using /usr/lib/jvm/java-17-openjdk-amd64/bin/jstat to provide /usr/bin/jstat (jstat) in auto mode\n",
      "update-alternatives: using /usr/lib/jvm/java-17-openjdk-amd64/bin/jstatd to provide /usr/bin/jstatd (jstatd) in auto mode\n",
      "update-alternatives: using /usr/lib/jvm/java-17-openjdk-amd64/bin/serialver to provide /usr/bin/serialver (serialver) in auto mode\n",
      "update-alternatives: using /usr/lib/jvm/java-17-openjdk-amd64/bin/jhsdb to provide /usr/bin/jhsdb (jhsdb) in auto mode\n",
      "Setting up x11-utils (7.7+5) ...\n",
      "Setting up libatk-wrapper-java (0.37.1-1) ...\n",
      "Setting up openjdk-17-jdk:amd64 (17.0.7+7~us1-0ubuntu1~20.04) ...\n",
      "update-alternatives: using /usr/lib/jvm/java-17-openjdk-amd64/bin/jconsole to provide /usr/bin/jconsole (jconsole) in auto mode\n",
      "Setting up libatk-wrapper-java-jni:amd64 (0.37.1-1) ...\n",
      "Processing triggers for mime-support (3.64ubuntu1) ...\n",
      "Processing triggers for hicolor-icon-theme (0.17-2) ...\n",
      "Processing triggers for libc-bin (2.31-0ubuntu9.9) ...\n",
      "Processing triggers for man-db (2.9.1-1) ...\n",
      "Processing triggers for fontconfig (2.13.1-2ubuntu3) ...\n"
     ]
    }
   ],
   "source": [
    "!apt-get install openjdk-17-jdk"
   ]
  },
  {
   "cell_type": "markdown",
   "metadata": {
    "id": "t8dCcpf7mivV"
   },
   "source": [
    "## Setup the library\n",
    "\n",
    "We install (from github) the unified planning library."
   ]
  },
  {
   "cell_type": "code",
   "execution_count": null,
   "metadata": {
    "colab": {
     "base_uri": "https://localhost:8080/"
    },
    "id": "BoqALxJWdfl8",
    "outputId": "299282e7-07f5-46df-e607-47da781dca50",
    "tags": [
     "remove_from_CI"
    ]
   },
   "outputs": [
    {
     "name": "stdout",
     "output_type": "stream",
     "text": [
      "Collecting unified-planning[enhsp]\n",
      "  Downloading unified_planning-1.0.0.2.dev1-py3-none-any.whl (635 kB)\n",
      "\u001b[2K     \u001b[90m━━━━━━━━━━━━━━━━━━━━━━━━━━━━━━━━━━━━━━\u001b[0m \u001b[32m635.6/635.6 kB\u001b[0m \u001b[31m10.2 MB/s\u001b[0m eta \u001b[36m0:00:00\u001b[0m\n",
      "\u001b[?25hRequirement already satisfied: pyparsing in /usr/local/lib/python3.10/dist-packages (from unified-planning[enhsp]) (3.1.0)\n",
      "Requirement already satisfied: networkx in /usr/local/lib/python3.10/dist-packages (from unified-planning[enhsp]) (3.1)\n",
      "Collecting up-enhsp==0.0.15 (from unified-planning[enhsp])\n",
      "  Downloading up_enhsp-0.0.15-py3-none-any.whl (25.8 MB)\n",
      "\u001b[2K     \u001b[90m━━━━━━━━━━━━━━━━━━━━━━━━━━━━━━━━━━━━━━━━\u001b[0m \u001b[32m25.8/25.8 MB\u001b[0m \u001b[31m55.4 MB/s\u001b[0m eta \u001b[36m0:00:00\u001b[0m\n",
      "\u001b[?25hInstalling collected packages: up-enhsp, unified-planning\n",
      "Successfully installed unified-planning-1.0.0.2.dev1 up-enhsp-0.0.15\n"
     ]
    }
   ],
   "source": [
    "!pip install --pre unified-planning[enhsp]"
   ]
  },
  {
   "cell_type": "markdown",
   "metadata": {
    "id": "iNHFHxQKnKIp"
   },
   "source": [
    "We are now ready to use the Unified-Planning library!"
   ]
  },
  {
   "cell_type": "markdown",
   "metadata": {
    "id": "xI2BGgmvdsek"
   },
   "source": [
    "## Demo\n"
   ]
  },
  {
   "cell_type": "markdown",
   "metadata": {
    "id": "xn5l-SVxufFA"
   },
   "source": [
    "We start importing the shortcuts."
   ]
  },
  {
   "cell_type": "code",
   "execution_count": null,
   "metadata": {
    "id": "otZVSku3idJC"
   },
   "outputs": [],
   "source": [
    "from unified_planning.shortcuts import *"
   ]
  },
  {
   "cell_type": "markdown",
   "metadata": {
    "id": "M9DCTuoSu2vh"
   },
   "source": [
    "Now we start to model a problem involving three numeric variables $c_0$, $c_1$ and $c_2$ that can be increased and decreased. The goal of this problem is to change the variables values such that  $c_0 < c_1 < c_2$. We name with value the lifted fluent that lets us access to the value of a given counter $c$.\n",
    "\n",
    "\n"
   ]
  },
  {
   "cell_type": "markdown",
   "metadata": {
    "id": "nBaUofy3Ko7V"
   },
   "source": [
    "\n",
    "### Creating the fluent\n",
    "\n",
    "First, we define the `UserTypes` and the `Fluents`."
   ]
  },
  {
   "cell_type": "code",
   "execution_count": null,
   "metadata": {
    "id": "e5BWi6wyuqyB"
   },
   "outputs": [],
   "source": [
    "Counter = UserType('Counter')\n",
    "\n",
    "value = Fluent('value', IntType(), m=Counter)"
   ]
  },
  {
   "cell_type": "markdown",
   "metadata": {
    "id": "5sJwsWGy3-K5"
   },
   "source": [
    "### Creating the actions\n"
   ]
  },
  {
   "cell_type": "code",
   "execution_count": null,
   "metadata": {
    "id": "J-cU6CvL0-Pv"
   },
   "outputs": [],
   "source": [
    "inc = InstantaneousAction('increment',c=Counter)\n",
    "c = inc.parameter('c')\n",
    "inc.add_precondition(LE(value(c), 10))\n",
    "inc.add_increase_effect(value(c), 1)\n",
    "\n",
    "dec = InstantaneousAction('decrement',c=Counter)\n",
    "c = dec.parameter('c')\n",
    "dec.add_precondition(GT(value(c), 0))\n",
    "dec.add_decrease_effect(value(c),1)\n"
   ]
  },
  {
   "cell_type": "markdown",
   "metadata": {
    "id": "aMMtRDVovvuM"
   },
   "source": [
    "Finally, we can create a `Problem` that encompasses the fluents and the actions, and puts them together with concrete objects, an initial state and a goal. Note here that we do not need to specify all values for each object. These are set to 0 using the default intial value parameter.\n"
   ]
  },
  {
   "cell_type": "code",
   "execution_count": null,
   "metadata": {
    "colab": {
     "base_uri": "https://localhost:8080/"
    },
    "id": "vEDxcqkLvm9d",
    "outputId": "aae981f7-dac8-4a2e-e02a-0619edefd271"
   },
   "outputs": [
    {
     "data": {
      "text/plain": [
       "problem name = problem\n",
       "\n",
       "types = [Counter]\n",
       "\n",
       "fluents = [\n",
       "  integer value[m=Counter]\n",
       "]\n",
       "\n",
       "actions = [\n",
       "  action increment(Counter c) {\n",
       "    preconditions = [\n",
       "      (value(c) <= 10)\n",
       "    ]\n",
       "    effects = [\n",
       "      value(c) += 1\n",
       "    ]\n",
       "  }\n",
       "  action decrement(Counter c) {\n",
       "    preconditions = [\n",
       "      (0 < value(c))\n",
       "    ]\n",
       "    effects = [\n",
       "      value(c) -= 1\n",
       "    ]\n",
       "  }\n",
       "]\n",
       "\n",
       "objects = [\n",
       "  Counter: [c0, c1, c2]\n",
       "]\n",
       "\n",
       "initial fluents default = [\n",
       "  integer value[m=Counter] := 0\n",
       "]\n",
       "\n",
       "initial values = [\n",
       "]\n",
       "\n",
       "goals = [\n",
       "  (((value(c1) + 1) <= value(c2)) and ((value(c0) + 1) <= value(c1)))\n",
       "]\n"
      ]
     },
     "execution_count": 6,
     "metadata": {},
     "output_type": "execute_result"
    }
   ],
   "source": [
    "problem = Problem('problem')\n",
    "\n",
    "problem.add_fluent(value, default_initial_value=0)\n",
    "C0 = Object('c0', Counter)\n",
    "C1 = Object('c1', Counter)\n",
    "C2 = Object('c2', Counter)\n",
    "problem.add_object(C0)\n",
    "problem.add_object(C1)\n",
    "problem.add_object(C2)\n",
    "problem.add_action(inc)\n",
    "problem.add_action(dec)\n",
    "problem.add_goal(And( GE(value(C2),Plus(value(C1),1)), GE(value(C1),Plus(value(C0),1))))\n",
    "problem\n"
   ]
  },
  {
   "cell_type": "markdown",
   "metadata": {
    "id": "Pfo5MK-4FIs4"
   },
   "source": [
    "\n",
    "Now we see how we can generate another, larger problem, much more compactly using a more programmatic definition\n",
    "\n"
   ]
  },
  {
   "cell_type": "code",
   "execution_count": null,
   "metadata": {
    "colab": {
     "base_uri": "https://localhost:8080/"
    },
    "id": "v62jmabZCyZr",
    "outputId": "e44cd067-6ceb-4db1-b939-34c79248f64c"
   },
   "outputs": [
    {
     "data": {
      "text/plain": [
       "problem name = Large_problems\n",
       "\n",
       "types = [Counter]\n",
       "\n",
       "fluents = [\n",
       "  integer value[m=Counter]\n",
       "]\n",
       "\n",
       "actions = [\n",
       "  action increment(Counter c) {\n",
       "    preconditions = [\n",
       "      (value(c) <= 10)\n",
       "    ]\n",
       "    effects = [\n",
       "      value(c) += 1\n",
       "    ]\n",
       "  }\n",
       "  action decrement(Counter c) {\n",
       "    preconditions = [\n",
       "      (0 < value(c))\n",
       "    ]\n",
       "    effects = [\n",
       "      value(c) -= 1\n",
       "    ]\n",
       "  }\n",
       "]\n",
       "\n",
       "objects = [\n",
       "  Counter: [c0, c1, c2, c3, c4, c5, c6, c7, c8]\n",
       "]\n",
       "\n",
       "initial fluents default = [\n",
       "  integer value[m=Counter] := 0\n",
       "]\n",
       "\n",
       "initial values = [\n",
       "]\n",
       "\n",
       "goals = [\n",
       "  ((value(c0) + 1) <= value(c1))\n",
       "  ((value(c1) + 1) <= value(c2))\n",
       "  ((value(c2) + 1) <= value(c3))\n",
       "  ((value(c3) + 1) <= value(c4))\n",
       "  ((value(c4) + 1) <= value(c5))\n",
       "  ((value(c5) + 1) <= value(c6))\n",
       "  ((value(c6) + 1) <= value(c7))\n",
       "  ((value(c7) + 1) <= value(c8))\n",
       "]\n"
      ]
     },
     "execution_count": 7,
     "metadata": {},
     "output_type": "execute_result"
    }
   ],
   "source": [
    "N = 9 #This is the number of counters\n",
    "\n",
    "p2 = Problem('Large_problems')\n",
    "\n",
    "p2.add_fluent(value, default_initial_value=0)\n",
    "p2.add_objects([Object(f'c{i}',Counter) for i in range(N)])\n",
    "p2.add_action(inc)\n",
    "p2.add_action(dec)\n",
    "\n",
    "for i in range(N-1):\n",
    "    p2.add_goal(GE(value(p2.object(f'c{i+1}')),Plus(value(p2.object(f'c{i}')),1)))\n",
    "\n",
    "p2"
   ]
  },
  {
   "cell_type": "markdown",
   "metadata": {
    "id": "z3l0y9kaKMII"
   },
   "source": [
    "### Solving the small and the parametric problem\n",
    "\n",
    "The unified_planning can either select among the available planners one which is suited for the task at hand (looking at the problem kind), or use the user defined planning. In what follows we first attempt to solve the small problem with three counters and ask the UP to use a specific planning system (ENHSP), and then one with N=9 counters (problem p2) asking the UP to automatically select the engine\n"
   ]
  },
  {
   "cell_type": "code",
   "execution_count": null,
   "metadata": {
    "colab": {
     "base_uri": "https://localhost:8080/"
    },
    "id": "frcEeD-oKO2m",
    "outputId": "1ea9a630-db3f-47d8-b011-85e97be31203"
   },
   "outputs": [
    {
     "name": "stdout",
     "output_type": "stream",
     "text": [
      "\u001b[96m\u001b[1mNOTE: To disable printing of planning engine credits, add this line to your code: `up.shortcuts.get_environment().credits_stream = None`\n",
      "\u001b[0m\u001b[96m  *** Credits ***\n",
      "\u001b[0m\u001b[96m  * In operation mode `OneshotPlanner` at line 1 of `<ipython-input-8-704bb41341bd>`, \u001b[0m\u001b[96myou are using the following planning engine:\n",
      "\u001b[0m\u001b[96m  * Engine name: ENHSP\n",
      "  * Developers:  Enrico Scala\n",
      "\u001b[0m\u001b[96m  * Description: \u001b[0m\u001b[96mExpressive Numeric Heuristic Search Planner.\u001b[0m\u001b[96m\n",
      "\u001b[0m\u001b[96m\n",
      "\u001b[0mSAT-enhsp returned:\n",
      "SequentialPlan:\n",
      "    increment(c2)\n",
      "    increment(c1)\n",
      "    increment(c2)\n"
     ]
    }
   ],
   "source": [
    "with OneshotPlanner(name='enhsp') as planner:\n",
    "    result = planner.solve(problem)\n",
    "    plan = result.plan\n",
    "    if plan is not None:\n",
    "        print(\"%s returned:\" % planner.name)\n",
    "        print(plan)\n",
    "    else:\n",
    "        print(\"No plan found.\")"
   ]
  },
  {
   "cell_type": "code",
   "execution_count": null,
   "metadata": {
    "colab": {
     "base_uri": "https://localhost:8080/"
    },
    "id": "1Xz-IqYoE56M",
    "outputId": "8a4b48ec-06e7-41f4-837d-c4c2c0564d14"
   },
   "outputs": [
    {
     "name": "stdout",
     "output_type": "stream",
     "text": [
      "\u001b[96m  *** Credits ***\n",
      "\u001b[0m\u001b[96m  * In operation mode `OneshotPlanner` at line 1 of `<ipython-input-9-9a3c3faa285e>`, \u001b[0m\u001b[96myou are using the following planning engine:\n",
      "\u001b[0m\u001b[96m  * Engine name: ENHSP\n",
      "  * Developers:  Enrico Scala\n",
      "\u001b[0m\u001b[96m  * Description: \u001b[0m\u001b[96mExpressive Numeric Heuristic Search Planner.\u001b[0m\u001b[96m\n",
      "\u001b[0m\u001b[96m\n",
      "\u001b[0mSAT-enhsp returned:\n",
      "SequentialPlan:\n",
      "    increment(c8)\n",
      "    increment(c7)\n",
      "    increment(c8)\n",
      "    increment(c8)\n",
      "    increment(c7)\n",
      "    increment(c6)\n",
      "    increment(c8)\n",
      "    increment(c5)\n",
      "    increment(c6)\n",
      "    increment(c7)\n",
      "    increment(c8)\n",
      "    increment(c4)\n",
      "    increment(c5)\n",
      "    increment(c6)\n",
      "    increment(c7)\n",
      "    increment(c8)\n",
      "    increment(c8)\n",
      "    increment(c3)\n",
      "    increment(c4)\n",
      "    increment(c5)\n",
      "    increment(c7)\n",
      "    increment(c6)\n",
      "    increment(c7)\n",
      "    increment(c8)\n",
      "    increment(c6)\n",
      "    increment(c5)\n",
      "    increment(c4)\n",
      "    increment(c2)\n",
      "    increment(c3)\n",
      "    increment(c7)\n",
      "    increment(c6)\n",
      "    increment(c5)\n",
      "    increment(c4)\n",
      "    increment(c3)\n",
      "    increment(c1)\n",
      "    increment(c2)\n"
     ]
    }
   ],
   "source": [
    "with OneshotPlanner(problem_kind=problem.kind) as planner:\n",
    "    result = planner.solve(p2)\n",
    "    plan = result.plan\n",
    "    if plan is not None:\n",
    "        print(\"%s returned:\" % planner.name)\n",
    "        print(plan)\n",
    "    else:\n",
    "        print(\"No plan found.\")"
   ]
  },
  {
   "cell_type": "markdown",
   "metadata": {
    "id": "YGfAogQpHZY-"
   },
   "source": [
    "Now let us create a problem medium-sized problem, set up a minimisation function as minimize the number of actions, and see how this can be solved optimally."
   ]
  },
  {
   "cell_type": "code",
   "execution_count": null,
   "metadata": {
    "colab": {
     "base_uri": "https://localhost:8080/"
    },
    "id": "v41WrIcmH1eJ",
    "outputId": "e80e8b7b-dfb1-4d88-84a2-856c0ba9a50f"
   },
   "outputs": [
    {
     "name": "stdout",
     "output_type": "stream",
     "text": [
      "\u001b[96m  *** Credits ***\n",
      "\u001b[0m\u001b[96m  * In operation mode `OneshotPlanner` at line 17 of `<ipython-input-10-a567e7dd9139>`, \u001b[0m\u001b[96myou are using the following planning engine:\n",
      "\u001b[0m\u001b[96m  * Engine name: ENHSP\n",
      "  * Developers:  Enrico Scala\n",
      "\u001b[0m\u001b[96m  * Description: \u001b[0m\u001b[96mExpressive Numeric Heuristic Search Planner.\u001b[0m\u001b[96m\n",
      "\u001b[0m\u001b[96m\n",
      "\u001b[0mOPT-enhsp returned:\n",
      "SequentialPlan:\n",
      "    increment(c6)\n",
      "    increment(c5)\n",
      "    increment(c4)\n",
      "    increment(c3)\n",
      "    increment(c6)\n",
      "    increment(c5)\n",
      "    increment(c4)\n",
      "    increment(c3)\n",
      "    increment(c6)\n",
      "    increment(c5)\n",
      "    increment(c4)\n",
      "    increment(c6)\n",
      "    increment(c5)\n",
      "    increment(c2)\n",
      "    increment(c6)\n",
      "    increment(c6)\n",
      "    increment(c5)\n",
      "    increment(c4)\n",
      "    increment(c3)\n",
      "    increment(c2)\n",
      "    increment(c1)\n"
     ]
    }
   ],
   "source": [
    "from unified_planning.model.metrics import MinimizeSequentialPlanLength\n",
    "\n",
    "N = 7 #This is the number of counters\n",
    "\n",
    "mediumSizeProblem = Problem('Medium_sized_problem')\n",
    "\n",
    "mediumSizeProblem.add_fluent(value, default_initial_value=0)\n",
    "mediumSizeProblem.add_objects([Object(f'c{i}',Counter) for i in range(N)])\n",
    "mediumSizeProblem.add_action(inc)\n",
    "mediumSizeProblem.add_action(dec)\n",
    "metric = MinimizeSequentialPlanLength()\n",
    "mediumSizeProblem.add_quality_metric(metric)\n",
    "\n",
    "for i in range(N-1):\n",
    "    mediumSizeProblem.add_goal(GE(value(p2.object(f'c{i+1}')),Plus(value(p2.object(f'c{i}')),1)))\n",
    "\n",
    "with OneshotPlanner(problem_kind=problem.kind,optimality_guarantee=True) as planner:\n",
    "    result = planner.solve(mediumSizeProblem)\n",
    "    plan = result.plan\n",
    "    if plan is not None:\n",
    "        print(\"%s returned:\" % planner.name)\n",
    "        print(plan)\n",
    "    else:\n",
    "        print(\"No plan found.\")\n"
   ]
  }
 ],
 "metadata": {
  "celltoolbar": "Tags",
  "colab": {
   "name": "Numeric Planning",
   "provenance": []
  },
  "kernelspec": {
   "display_name": "Python 3 (ipykernel)",
   "language": "python",
   "name": "python3"
  },
  "language_info": {
   "codemirror_mode": {
    "name": "ipython",
    "version": 3
   },
   "file_extension": ".py",
   "mimetype": "text/x-python",
   "name": "python",
   "nbconvert_exporter": "python",
   "pygments_lexer": "ipython3",
   "version": "3.10.6"
  }
 },
 "nbformat": 4,
 "nbformat_minor": 1
}
