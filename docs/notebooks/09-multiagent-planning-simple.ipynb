{
 "cells": [
  {
   "cell_type": "markdown",
   "metadata": {
    "id": "QiGealjaVJNw"
   },
   "source": [
    "# Multi-Agent Plan Simple Example\n",
    "\n",
    "\n",
    "[![Open In GitHub](https://img.shields.io/badge/see-Github-579aca?logo=github)](https:///github.com/aiplan4eu/unified-planning/blob/master/docs/notebooks/09-multiagent-planning-simple.ipynb)\n",
    "[![Open In Colab](https://colab.research.google.com/assets/colab-badge.svg)](https://colab.research.google.com/github/aiplan4eu/unified-planning/blob/master/docs/notebooks/09-multiagent-planning-simple.ipynb)\n",
    "\n"
   ]
  },
  {
   "cell_type": "markdown",
   "metadata": {
    "id": "JvKlg7cm8tBo"
   },
   "source": [
    "We start by installing the library with PIP"
   ]
  },
  {
   "cell_type": "code",
   "execution_count": null,
   "metadata": {
    "colab": {
     "base_uri": "https://localhost:8080/"
    },
    "id": "aIxg95xz5EMo",
    "outputId": "49c6f286-6052-4118-fb01-cd19d3b53271"
   },
   "outputs": [],
   "source": [
    "!pip install --pre unified-planning[fmap]"
   ]
  },
  {
   "cell_type": "markdown",
   "metadata": {
    "id": "Vh5X0ZqRVVEA"
   },
   "source": [
    "## Creating the simple-MA problem"
   ]
  },
  {
   "cell_type": "code",
   "execution_count": null,
   "metadata": {
    "id": "a9-Qdqvz5FF9"
   },
   "outputs": [],
   "source": [
    "from unified_planning.shortcuts import *\n",
    "from unified_planning.model.multi_agent import *\n",
    "from collections import namedtuple\n",
    "from unified_planning.io.ma_pddl_writer import MAPDDLWriter\n",
    "\n",
    "\n",
    "problem = MultiAgentProblem(\"simple_MA\")\n",
    "\n",
    "#AGENTs\n",
    "robot_a = Agent(\"robot_a\", problem)\n",
    "scale_a = Agent(\"scale_a\", problem)\n",
    "\n",
    "Location = UserType(\"Location\")\n",
    "door = UserType(\"door\")\n",
    "\n",
    "home = Object(\"home\", Location)\n",
    "office = Object(\"office\", Location)\n",
    "open20 = Object(\"open20\", door)\n",
    "close20 = Object(\"close20\", door)\n",
    "\n",
    "#FLUENTs\n",
    "open = Fluent(\"open\", door=door)\n",
    "pos = Fluent(\"pos\", loc=Location)\n",
    "\n",
    "robot_a.add_fluent(pos, default_initial_value=False)\n",
    "scale_a.add_fluent(open, default_initial_value=False)\n",
    "\n",
    "#ACTIONs\n",
    "movegripper = InstantaneousAction(\"movegripper\")\n",
    "movegripper.add_precondition(pos(office))\n",
    "movegripper.add_effect(pos(home), True)\n",
    "\n",
    "open_door = InstantaneousAction(\"open_door\")\n",
    "open_door.add_precondition(open(close20))\n",
    "open_door.add_effect(open(open20), True)\n",
    "\n",
    "robot_a.add_action(movegripper)\n",
    "scale_a.add_action(open_door)\n",
    "\n",
    "#OBJECTs\n",
    "problem.add_object(home)\n",
    "problem.add_object(office)\n",
    "problem.add_object(open20)\n",
    "problem.add_object(close20)\n",
    "\n",
    "problem.add_agent(robot_a)\n",
    "problem.add_agent(scale_a)\n",
    "\n",
    "#INITIAL VALUEs\n",
    "problem.set_initial_value(Dot(robot_a, pos(office)), True)\n",
    "problem.set_initial_value(Dot(scale_a, open(close20)), True)\n",
    "\n",
    "#GOALs\n",
    "problem.add_goal(Dot(robot_a, pos(home)))\n",
    "problem.add_goal(Dot(scale_a, open(open20)))\n",
    "\n",
    "w = MAPDDLWriter(problem)\n",
    "w.write_ma_domain(\"simple_ma\")\n",
    "w.write_ma_problem(\"simple_ma\")"
   ]
  },
  {
   "cell_type": "markdown",
   "metadata": {
    "id": "UxrMTuOqVmzJ"
   },
   "source": [
    "## Solving Multi-Agent Planning Problems"
   ]
  },
  {
   "cell_type": "markdown",
   "metadata": {
    "id": "WeCeV3WrXYNZ"
   },
   "source": [
    "The user can enter the following optional parameters in order to configure the search procedure:\n",
    "\n",
    "`result = planner.solve(problem, \"-s\", \"h\")`:\n",
    "\n",
    "- s N selects the search strategy of FMAP. Currently, FMAP supports only an A search scheme, which is the default value of the tag -s (-s None)"
   ]
  },
  {
   "cell_type": "markdown",
   "metadata": {
    "id": "9SRCqarrVo6H"
   },
   "source": [
    "- h N selects the heuristic function(s) used to evaluate the quality of the plans. Currently, the following values for N are supported:\n",
    "\n",
    "  - 0 - FF heuristic: guides the search through the well-known h_FF heuristic function. This option is available for single-agent planning tasks only.\n",
    "  - 1 - DTG heuristic: evaluates plans via the heuristic h_DTG.\n",
    "  - 2 - default option - DTG + Landmarks: this option applies the multi-heuristic search scheme of the MH-FMAP solver by combining the h_DTG and h_Land heuristics to guide the search.\n",
    "  - 3 - Inc. DTG + Landmarks: incremental multi-heuristic mode that makes use of h_DTG and h_Land."
   ]
  },
  {
   "cell_type": "code",
   "execution_count": null,
   "metadata": {
    "colab": {
     "base_uri": "https://localhost:8080/"
    },
    "id": "4OF98T8i5ZOl",
    "outputId": "5d67f482-bf6d-4de5-984f-4ace5e2e37e9"
   },
   "outputs": [
    {
     "name": "stdout",
     "output_type": "stream",
     "text": [
      "\u001b[96m\u001b[1mNOTE: To disable printing of planning engine credits, add this line to your code: `up.shortcuts.get_environment().credits_stream = None`\n",
      "\u001b[0m\u001b[96m  *** Credits ***\n",
      "\u001b[0m\u001b[96m  * In operation mode `OneshotPlanner` at line 1 of `<ipython-input-5-ef9b04792df7>`, \u001b[0m\u001b[96myou are using the following planning engine:\n",
      "\u001b[0m\u001b[96m  * Engine name: FMAP\n",
      "  * Developers:  Alejandro Torreño, Oscar Sapena and Eva Onaindia\n",
      "\u001b[0m\u001b[96m  * Description: \u001b[0m\u001b[96mFMAP: A Platform for the Development of Distributed Multi-Agent Planning Systems.\u001b[0m\u001b[96m\n",
      "\u001b[0m\u001b[96m\n",
      "\u001b[0mFMAP Returned Sequential Plans object: <generator object PartialOrderPlan.all_sequential_plans at 0x7fdf36e6bf20>\n",
      "0 Sequential Plans: [scale_a.open_door, robot_a.movegripper]\n",
      "1 Sequential Plans: [robot_a.movegripper, scale_a.open_door]\n",
      "Adjacency list: {robot_a.movegripper: [], scale_a.open_door: []}\n",
      "result: PlanGenerationResult(status=<PlanGenerationResultStatus.SOLVED_SATISFICING: 1>, plan=DiGraph with 2 nodes and 0 edges, engine_name='FMAP', metrics=None, log_messages=[LogMessage(level=<LogLevel.INFO: 2>, message='; Hdtg = 0, Hlan = 0\\n; Hdtg = 0, Hlan = 0\\n; Hdtg = 0, Hlan = 0\\n; Hdtg = 0, Hlan = 0\\n\\n; Solution plan - CoDMAP Distributed format\\n; -----------------------------------------\\n0: (movegripper robot_a)\\n0: (open_door scale_a)\\n; Stopping...\\n'), LogMessage(level=<LogLevel.ERROR: 4>, message='')])\n"
     ]
    }
   ],
   "source": [
    "with OneshotPlanner(name='fmap') as planner:\n",
    "    result = planner.solve(problem, None, \"1\")\n",
    "    if result.status == up.engines.PlanGenerationResultStatus.SOLVED_SATISFICING:\n",
    "        print(\"%s Returned Sequential Plans object: %s\" % (planner.name, result.plan.all_sequential_plans()))\n",
    "        [print(f\"{idx} Sequential Plans: {seq_plan}\") for idx, seq_plan in enumerate(result.plan.all_sequential_plans())]\n",
    "        print(\"Adjacency list:\", result.plan.get_adjacency_list)\n",
    "        print(\"result:\", result)\n",
    "    else:\n",
    "        print(\"Log Error:\", result)"
   ]
  },
  {
   "cell_type": "code",
   "execution_count": null,
   "metadata": {
    "id": "TnxbGFkYbnnq"
   },
   "outputs": [],
   "source": []
  }
 ],
 "metadata": {
  "celltoolbar": "Tags",
  "colab": {
   "name": "MultiAgent Simple Planning",
   "provenance": []
  },
  "kernelspec": {
   "display_name": "Python 3 (ipykernel)",
   "language": "python",
   "name": "python3"
  },
  "language_info": {
   "codemirror_mode": {
    "name": "ipython",
    "version": 3
   },
   "file_extension": ".py",
   "mimetype": "text/x-python",
   "name": "python",
   "nbconvert_exporter": "python",
   "pygments_lexer": "ipython3",
   "version": "3.10.6"
  }
 },
 "nbformat": 4,
 "nbformat_minor": 1
}
