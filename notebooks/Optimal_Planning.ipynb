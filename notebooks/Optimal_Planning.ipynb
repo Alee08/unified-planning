{
 "cells": [
  {
   "cell_type": "markdown",
   "metadata": {
    "id": "vXUqFpLObzhb"
   },
   "source": [
    "#Optimal Planning using the Unified Planning framework\n",
    "\n",
    "This python notebook shows how to use the unified planning library to solve problems with a given optimality metric."
   ]
  },
  {
   "cell_type": "markdown",
   "metadata": {
    "id": "t8dCcpf7mivV"
   },
   "source": [
    "## Setup the library\n",
    "\n",
    "We install (from github) the unified planning library."
   ]
  },
  {
   "cell_type": "code",
   "execution_count": null,
   "metadata": {
    "id": "lk0GFcWndS8c"
   },
   "outputs": [],
   "source": [
    "# begin of installation"
   ]
  },
  {
   "cell_type": "code",
   "execution_count": null,
   "metadata": {
    "id": "BoqALxJWdfl8"
   },
   "outputs": [],
   "source": [
    "!pip install --pre unified-planning[fast-downward]"
   ]
  },
  {
   "cell_type": "markdown",
   "metadata": {
    "id": "iNHFHxQKnKIp"
   },
   "source": [
    "We are now ready to use the Unified-Planning library!"
   ]
  },
  {
   "cell_type": "code",
   "execution_count": null,
   "metadata": {
    "id": "9oDsGq2jdY0S"
   },
   "outputs": [],
   "source": [
    "# end of installation"
   ]
  },
  {
   "cell_type": "markdown",
   "metadata": {
    "id": "xI2BGgmvdsek"
   },
   "source": [
    "## Demo\n"
   ]
  },
  {
   "cell_type": "markdown",
   "metadata": {
    "id": "bu91rHtQ34Wh"
   },
   "source": [
    "In this demo we show how to model a problem with an optimality metric and how to solve it following the given metric."
   ]
  },
  {
   "cell_type": "markdown",
   "metadata": {
    "id": "xn5l-SVxufFA"
   },
   "source": [
    "We start importing the shortcuts."
   ]
  },
  {
   "cell_type": "code",
   "execution_count": null,
   "metadata": {
    "id": "otZVSku3idJC"
   },
   "outputs": [],
   "source": [
    "from unified_planning.shortcuts import *"
   ]
  },
  {
   "cell_type": "markdown",
   "metadata": {
    "id": "M9DCTuoSu2vh"
   },
   "source": [
    "Now we start to model a basic problem with action costs.\n"
   ]
  },
  {
   "cell_type": "markdown",
   "metadata": {
    "id": "5iISKqwryXFT"
   },
   "source": [
    "### Creating the problem"
   ]
  },
  {
   "cell_type": "markdown",
   "metadata": {
    "id": "nBaUofy3Ko7V"
   },
   "source": [
    "#### Classical part\n",
    "\n",
    "First, we define the `UserTypes` and the `Fluents`."
   ]
  },
  {
   "cell_type": "code",
   "execution_count": null,
   "metadata": {
    "id": "e5BWi6wyuqyB"
   },
   "outputs": [],
   "source": [
    "# basic with actions cost\n",
    "x = Fluent(\"x\")\n",
    "y = Fluent(\"y\")\n",
    "a = InstantaneousAction(\"a\")\n",
    "a.add_precondition(Not(x))\n",
    "a.add_effect(x, True)\n",
    "b = InstantaneousAction(\"b\")\n",
    "b.add_precondition(Not(y))\n",
    "b.add_effect(y, True)\n",
    "c = InstantaneousAction(\"c\")\n",
    "c.add_precondition(y)\n",
    "c.add_effect(x, True)\n",
    "problem = Problem(\"basic_with_costs\")\n",
    "problem.add_fluent(x)\n",
    "problem.add_fluent(y)\n",
    "problem.add_action(a)\n",
    "problem.add_action(b)\n",
    "problem.add_action(c)\n",
    "problem.set_initial_value(x, False)\n",
    "problem.set_initial_value(y, False)\n",
    "problem.add_goal(x)\n",
    "problem.add_quality_metric(\n",
    "    up.model.metrics.MinimizeActionCosts({a: Int(10), b: Int(1), c: Int(1)})\n",
    ")\n",
    "expected_plan = up.plans.SequentialPlan(\n",
    "    [up.plans.ActionInstance(b), up.plans.ActionInstance(c)]\n",
    ")"
   ]
  },
  {
   "cell_type": "markdown",
   "metadata": {
    "id": "aMMtRDVovvuM"
   },
   "source": [
    "We get a solver that guarantees that the problem cna be solved optimally."
   ]
  },
  {
   "cell_type": "code",
   "execution_count": null,
   "metadata": {
    "id": "vEDxcqkLvm9d"
   },
   "outputs": [],
   "source": [
    "with OneshotPlanner(\n",
    "    problem_kind=problem.kind,\n",
    "    optimality_guarantee=PlanGenerationResultStatus.SOLVED_OPTIMALLY,\n",
    ") as planner:\n",
    "    self.assertNotEqual(planner, None)\n",
    "    final_report = planner.solve(problem)\n",
    "    plan = final_report.plan\n",
    "    self.assertEqual(\n",
    "        final_report.status, PlanGenerationResultStatus.SOLVED_OPTIMALLY\n",
    "    )\n",
    "    self.assertEqual(plan, expected_plan)"
   ]
  },
  {
   "cell_type": "markdown",
   "metadata": {
    "id": "SIA9pRCiwEql"
   },
   "source": [
    "Here, we assume that the plan is the one we expected, and not the shortes one."
   ]
  },
  {
   "cell_type": "code",
   "execution_count": null,
   "metadata": {
    "id": "b1Xnzzq7wOxw"
   },
   "outputs": [],
   "source": [
    "this is defined in the "
   ]
  },
  {
   "cell_type": "markdown",
   "metadata": {
    "id": "vidUnHLh3gOz"
   },
   "source": [
    "#### Temporal part\n",
    "\n",
    "Now we start with the temporal aspects creating two durative actions.\n",
    "\n",
    "A durative action has a duration, a set of conditions associated to an interval/timing and a set of effects associated to a timing.\n",
    "\n",
    "We define the `light_match` action setting a fixed duration and defining a condition at its start and three effects at its end."
   ]
  },
  {
   "cell_type": "code",
   "execution_count": null,
   "metadata": {
    "id": "xl8dm2fZ3gpp"
   },
   "outputs": [],
   "source": [
    "light_match = DurativeAction('light_match', m=Match)\n",
    "m = light_match.parameter('m')\n",
    "light_match.set_fixed_duration(6)\n",
    "light_match.add_condition(StartTiming(), Not(match_used(m)))\n",
    "light_match.add_effect(StartTiming(), match_used(m), True)\n",
    "light_match.add_effect(StartTiming(), light, True)\n",
    "light_match.add_effect(EndTiming(), light, False)\n",
    "problem.add_action(light_match)\n",
    "print(light_match)"
   ]
  },
  {
   "cell_type": "markdown",
   "metadata": {
    "id": "mjdfaQw537eI"
   },
   "source": [
    "Defining the `mend_fuse` action we defined also a condition over an interval."
   ]
  },
  {
   "cell_type": "code",
   "execution_count": null,
   "metadata": {
    "id": "8NFqgnnlyeAc"
   },
   "outputs": [],
   "source": [
    "mend_fuse = DurativeAction('mend_fuse', f=Fuse)\n",
    "f = mend_fuse.parameter('f')\n",
    "mend_fuse.set_fixed_duration(5)\n",
    "mend_fuse.add_condition(StartTiming(), handfree)\n",
    "mend_fuse.add_condition(ClosedTimeInterval(StartTiming(), EndTiming()), light)\n",
    "mend_fuse.add_effect(StartTiming(), handfree, False)\n",
    "mend_fuse.add_effect(EndTiming(), fuse_mended(f), True)\n",
    "mend_fuse.add_effect(EndTiming(), handfree, True)\n",
    "problem.add_action(mend_fuse)\n",
    "print(mend_fuse)"
   ]
  },
  {
   "cell_type": "markdown",
   "metadata": {
    "id": "kLDlxvwL39dh"
   },
   "source": [
    "We conclude the modeling defining three goals at the end of the execution."
   ]
  },
  {
   "cell_type": "code",
   "execution_count": null,
   "metadata": {
    "id": "S4rT6f0A3qRJ"
   },
   "outputs": [],
   "source": [
    "for f in fuses:\n",
    "  problem.add_timed_goal(EndTiming(), fuse_mended(f))\n",
    "\n",
    "print(problem)"
   ]
  },
  {
   "cell_type": "markdown",
   "metadata": {
    "id": "z3l0y9kaKMII"
   },
   "source": [
    "### Solving the problem\n",
    "\n",
    "The unified_planning can automatically select, among the available planners installed on the system, one that is able to handle the temporal features of the problem."
   ]
  },
  {
   "cell_type": "code",
   "execution_count": null,
   "metadata": {
    "id": "frcEeD-oKO2m"
   },
   "outputs": [],
   "source": [
    "with OneshotPlanner(problem_kind=problem.kind) as planner:\n",
    "    result = planner.solve(problem)\n",
    "    plan = result.plan\n",
    "    if plan is not None:\n",
    "        print(\"%s returned:\" % planner.name)\n",
    "        for start, action, duration in plan.timed_actions:\n",
    "            print(\"%s: %s [%s]\" % (float(start), action, float(duration)))\n",
    "    else:\n",
    "        print(\"No plan found.\")"
   ]
  }
 ],
 "metadata": {
  "colab": {
   "collapsed_sections": [],
   "name": "Unified_Planning_Temporal.ipynb",
   "provenance": []
  },
  "kernelspec": {
   "display_name": "Python 3 (ipykernel)",
   "language": "python",
   "name": "python3"
  },
  "language_info": {
   "codemirror_mode": {
    "name": "ipython",
    "version": 3
   },
   "file_extension": ".py",
   "mimetype": "text/x-python",
   "name": "python",
   "nbconvert_exporter": "python",
   "pygments_lexer": "ipython3",
   "version": "3.10.6"
  }
 },
 "nbformat": 4,
 "nbformat_minor": 1
}
