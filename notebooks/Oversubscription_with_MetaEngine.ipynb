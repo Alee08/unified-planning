{
  "nbformat": 4,
  "nbformat_minor": 0,
  "metadata": {
    "colab": {
      "name": "Oversubscription planning using a MetaEngine.ipynb",
      "provenance": [],
      "collapsed_sections": []
    },
    "kernelspec": {
      "name": "python3",
      "display_name": "Python 3"
    },
    "language_info": {
      "name": "python"
    }
  },
  "cells": [
    {
      "cell_type": "markdown",
      "source": [
        "# Meta Engines\n",
        "\n",
        "In this notebook we define an oversubscription planning problem and we solve it using a `MetaEngine`."
      ],
      "metadata": {
        "id": "DALQzKA3Wh21"
      }
    },
    {
      "cell_type": "markdown",
      "metadata": {
        "id": "JnUrQV84Pk4_"
      },
      "source": [
        "### Setup the library"
      ]
    },
    {
      "cell_type": "markdown",
      "metadata": {
        "id": "WUlNZ8pVPk5A"
      },
      "source": [
        "First, we install unified_planning library and its dependencies from PyPi. Here, we use the `--pre` flag to use the latest development build."
      ]
    },
    {
      "cell_type": "code",
      "source": [
        "# begin of installation"
      ],
      "metadata": {
        "id": "GPKRUQgNZBo8"
      },
      "execution_count": null,
      "outputs": []
    },
    {
      "cell_type": "code",
      "execution_count": null,
      "metadata": {
        "id": "fhMfqhBqPk5B"
      },
      "outputs": [],
      "source": [
        "pip install --pre unified-planning[tamer,pyperplan]"
      ]
    },
    {
      "cell_type": "code",
      "source": [
        "# end of installation"
      ],
      "metadata": {
        "id": "uzkOkJbSdMTY"
      },
      "execution_count": null,
      "outputs": []
    },
    {
      "cell_type": "markdown",
      "metadata": {
        "id": "p1p0OvjqW4g0"
      },
      "source": [
        "### Problem definition\n",
        "\n",
        "We model an oversubscription planning problem."
      ]
    },
    {
      "cell_type": "code",
      "source": [
        "from unified_planning.shortcuts import *"
      ],
      "metadata": {
        "id": "nc4DQP3kq-QP"
      },
      "execution_count": null,
      "outputs": []
    },
    {
      "cell_type": "markdown",
      "metadata": {
        "id": "JXDIDNwCm13b"
      },
      "source": [
        "We start the problem modeling defining the `UserType` and the `Fluent`."
      ]
    },
    {
      "cell_type": "code",
      "execution_count": null,
      "metadata": {
        "id": "nHXzkD2LmWkB"
      },
      "outputs": [],
      "source": [
        "Location = UserType('Location')\n",
        "Robot = UserType('Robot')\n",
        "\n",
        "at = Fluent('at', BoolType(), robot=Robot, location=Location)\n",
        "connected = Fluent('connected', BoolType(), l_from=Location, l_to=Location)"
      ]
    },
    {
      "cell_type": "markdown",
      "metadata": {
        "id": "OVUn5VPTmXKY"
      },
      "source": [
        "We define an action `move` that models the movement of a robot between two locations.\n"
      ]
    },
    {
      "cell_type": "code",
      "execution_count": null,
      "metadata": {
        "id": "cwXh99K2laqv"
      },
      "outputs": [],
      "source": [
        "move = InstantaneousAction('move', robot=Robot, l_from=Location, l_to=Location)\n",
        "robot = move.parameter('robot')\n",
        "l_from = move.parameter('l_from')\n",
        "l_to = move.parameter('l_to')\n",
        "move.add_precondition(at(robot, l_from))\n",
        "move.add_precondition(connected(l_from, l_to))\n",
        "move.add_effect(at(robot, l_from), False)\n",
        "move.add_effect(at(robot, l_to), True)"
      ]
    },
    {
      "cell_type": "markdown",
      "metadata": {
        "id": "C92YH1nrmRb7"
      },
      "source": [
        "We define the `Object` instances and, after creating the `Problem`, we set the initial values."
      ]
    },
    {
      "cell_type": "code",
      "execution_count": null,
      "metadata": {
        "id": "MczotRommR_k"
      },
      "outputs": [],
      "source": [
        "r1 = Object('r1', Robot)\n",
        "NLOC = 10\n",
        "locations = [Object('l%s' % i, Location) for i in range(NLOC)]\n",
        "\n",
        "problem = Problem('robot_with_simulated_effects')\n",
        "problem.add_fluent(at, default_initial_value=False)\n",
        "problem.add_fluent(connected, default_initial_value=False)\n",
        "problem.add_action(move)\n",
        "\n",
        "problem.add_object(r1)\n",
        "problem.add_objects(locations)\n",
        "\n",
        "problem.set_initial_value(at(r1, locations[0]), True)\n",
        "for i in range(NLOC - 1):\n",
        "    problem.set_initial_value(connected(locations[i], locations[i+1]), True)\n",
        "problem.set_initial_value(connected(locations[4], locations[8]), True)"
      ]
    },
    {
      "cell_type": "markdown",
      "source": [
        "Finally, we define the oversubscription goals."
      ],
      "metadata": {
        "id": "57hCstd_ZzK5"
      }
    },
    {
      "cell_type": "code",
      "source": [
        "goals = {}\n",
        "goals[at(r1, locations[5])] = 5\n",
        "goals[at(r1, locations[7])] = 4\n",
        "goals[at(r1, locations[9])] = 10\n",
        "\n",
        "problem.add_quality_metric(up.model.metrics.Oversubscription(goals))"
      ],
      "metadata": {
        "id": "IyVivfPuZzcd"
      },
      "execution_count": null,
      "outputs": []
    },
    {
      "cell_type": "markdown",
      "metadata": {
        "id": "pXvh83ljlabv"
      },
      "source": [
        "### Solving the problem"
      ]
    },
    {
      "cell_type": "markdown",
      "metadata": {
        "id": "McV4znupqpkw"
      },
      "source": [
        "We solve the problem using the oversubscription `MetaEngine` with the tamer `Engine`."
      ]
    },
    {
      "cell_type": "code",
      "execution_count": null,
      "metadata": {
        "id": "bXHWJh2vl5RJ"
      },
      "outputs": [],
      "source": [
        "with OneshotPlanner(name='oversubscription[tamer]') as planner:\n",
        "    result = planner.solve(problem)\n",
        "    print(\"%s returned: %s\" % (planner.name, result.plan))"
      ]
    },
    {
      "cell_type": "markdown",
      "metadata": {
        "id": "nB7L6qtxfiEL"
      },
      "source": [
        "But the same `MetaEngine` can be used with other `Engine`, then we re-solve the problem with the pyperplan `Engine`."
      ]
    },
    {
      "cell_type": "code",
      "execution_count": null,
      "metadata": {
        "id": "hhDPOR9-fiEO"
      },
      "outputs": [],
      "source": [
        "with OneshotPlanner(name='oversubscription[pyperplan]') as planner:\n",
        "    result = planner.solve(problem)\n",
        "    print(\"%s returned: %s\" % (planner.name, result.plan))"
      ]
    },
    {
      "cell_type": "markdown",
      "source": [
        "To test the oversubscription `MetaEngine`, we update the oversubscription goals to see if it finds a different plan."
      ],
      "metadata": {
        "id": "cUnXZCL4eNyj"
      }
    },
    {
      "cell_type": "code",
      "source": [
        "problem.clear_quality_metrics()\n",
        "\n",
        "goals = {}\n",
        "goals[at(r1, locations[5])] = 5\n",
        "goals[at(r1, locations[7])] = 6\n",
        "goals[at(r1, locations[9])] = 10\n",
        "\n",
        "problem.add_quality_metric(up.model.metrics.Oversubscription(goals))"
      ],
      "metadata": {
        "id": "jJGRbo7weLUO"
      },
      "execution_count": null,
      "outputs": []
    },
    {
      "cell_type": "markdown",
      "metadata": {
        "id": "jpKO5yUKdwlA"
      },
      "source": [
        "To solve the new problem, now we let the system choose the `Engine` to use."
      ]
    },
    {
      "cell_type": "code",
      "execution_count": null,
      "metadata": {
        "id": "HBqoZ3-ldyD1"
      },
      "outputs": [],
      "source": [
        "with OneshotPlanner(problem_kind=problem.kind) as planner:\n",
        "    result = planner.solve(problem)\n",
        "    print(\"%s returned: %s\" % (planner.name, result.plan))"
      ]
    }
  ]
}